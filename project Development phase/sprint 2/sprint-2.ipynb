{
  "nbformat": 4,
  "nbformat_minor": 0,
  "metadata": {
    "colab": {
      "provenance": [],
      "collapsed_sections": []
    },
    "kernelspec": {
      "name": "python3",
      "display_name": "Python 3"
    },
    "language_info": {
      "name": "python"
    }
  },
  "cells": [
    {
      "cell_type": "code",
      "execution_count": 1,
      "metadata": {
        "id": "RuV31UHcWeNL"
      },
      "outputs": [],
      "source": [
        "import pandas as pd\n",
        "import numpy as np\n",
        "import matplotlib.pyplot as plt"
      ]
    },
    {
      "cell_type": "code",
      "source": [
        "data=pd.read_csv('/content/Crude-Oil-Prices-Daily.csv')\n",
        "data.head()"
      ],
      "metadata": {
        "colab": {
          "base_uri": "https://localhost:8080/",
          "height": 206
        },
        "id": "Vqd2g8QyWhko",
        "outputId": "7da349b8-92bf-41b9-ee5a-8ed1f92d6053"
      },
      "execution_count": 4,
      "outputs": [
        {
          "output_type": "execute_result",
          "data": {
            "text/plain": [
              "       Date  Closing Value\n",
              "0  1/2/1986          25.56\n",
              "1  1/3/1986          26.00\n",
              "2  1/6/1986          26.53\n",
              "3  1/7/1986          25.85\n",
              "4  1/8/1986          25.87"
            ],
            "text/html": [
              "\n",
              "  <div id=\"df-1d72d4ab-f585-4e9c-85c3-3785f1899433\">\n",
              "    <div class=\"colab-df-container\">\n",
              "      <div>\n",
              "<style scoped>\n",
              "    .dataframe tbody tr th:only-of-type {\n",
              "        vertical-align: middle;\n",
              "    }\n",
              "\n",
              "    .dataframe tbody tr th {\n",
              "        vertical-align: top;\n",
              "    }\n",
              "\n",
              "    .dataframe thead th {\n",
              "        text-align: right;\n",
              "    }\n",
              "</style>\n",
              "<table border=\"1\" class=\"dataframe\">\n",
              "  <thead>\n",
              "    <tr style=\"text-align: right;\">\n",
              "      <th></th>\n",
              "      <th>Date</th>\n",
              "      <th>Closing Value</th>\n",
              "    </tr>\n",
              "  </thead>\n",
              "  <tbody>\n",
              "    <tr>\n",
              "      <th>0</th>\n",
              "      <td>1/2/1986</td>\n",
              "      <td>25.56</td>\n",
              "    </tr>\n",
              "    <tr>\n",
              "      <th>1</th>\n",
              "      <td>1/3/1986</td>\n",
              "      <td>26.00</td>\n",
              "    </tr>\n",
              "    <tr>\n",
              "      <th>2</th>\n",
              "      <td>1/6/1986</td>\n",
              "      <td>26.53</td>\n",
              "    </tr>\n",
              "    <tr>\n",
              "      <th>3</th>\n",
              "      <td>1/7/1986</td>\n",
              "      <td>25.85</td>\n",
              "    </tr>\n",
              "    <tr>\n",
              "      <th>4</th>\n",
              "      <td>1/8/1986</td>\n",
              "      <td>25.87</td>\n",
              "    </tr>\n",
              "  </tbody>\n",
              "</table>\n",
              "</div>\n",
              "      <button class=\"colab-df-convert\" onclick=\"convertToInteractive('df-1d72d4ab-f585-4e9c-85c3-3785f1899433')\"\n",
              "              title=\"Convert this dataframe to an interactive table.\"\n",
              "              style=\"display:none;\">\n",
              "        \n",
              "  <svg xmlns=\"http://www.w3.org/2000/svg\" height=\"24px\"viewBox=\"0 0 24 24\"\n",
              "       width=\"24px\">\n",
              "    <path d=\"M0 0h24v24H0V0z\" fill=\"none\"/>\n",
              "    <path d=\"M18.56 5.44l.94 2.06.94-2.06 2.06-.94-2.06-.94-.94-2.06-.94 2.06-2.06.94zm-11 1L8.5 8.5l.94-2.06 2.06-.94-2.06-.94L8.5 2.5l-.94 2.06-2.06.94zm10 10l.94 2.06.94-2.06 2.06-.94-2.06-.94-.94-2.06-.94 2.06-2.06.94z\"/><path d=\"M17.41 7.96l-1.37-1.37c-.4-.4-.92-.59-1.43-.59-.52 0-1.04.2-1.43.59L10.3 9.45l-7.72 7.72c-.78.78-.78 2.05 0 2.83L4 21.41c.39.39.9.59 1.41.59.51 0 1.02-.2 1.41-.59l7.78-7.78 2.81-2.81c.8-.78.8-2.07 0-2.86zM5.41 20L4 18.59l7.72-7.72 1.47 1.35L5.41 20z\"/>\n",
              "  </svg>\n",
              "      </button>\n",
              "      \n",
              "  <style>\n",
              "    .colab-df-container {\n",
              "      display:flex;\n",
              "      flex-wrap:wrap;\n",
              "      gap: 12px;\n",
              "    }\n",
              "\n",
              "    .colab-df-convert {\n",
              "      background-color: #E8F0FE;\n",
              "      border: none;\n",
              "      border-radius: 50%;\n",
              "      cursor: pointer;\n",
              "      display: none;\n",
              "      fill: #1967D2;\n",
              "      height: 32px;\n",
              "      padding: 0 0 0 0;\n",
              "      width: 32px;\n",
              "    }\n",
              "\n",
              "    .colab-df-convert:hover {\n",
              "      background-color: #E2EBFA;\n",
              "      box-shadow: 0px 1px 2px rgba(60, 64, 67, 0.3), 0px 1px 3px 1px rgba(60, 64, 67, 0.15);\n",
              "      fill: #174EA6;\n",
              "    }\n",
              "\n",
              "    [theme=dark] .colab-df-convert {\n",
              "      background-color: #3B4455;\n",
              "      fill: #D2E3FC;\n",
              "    }\n",
              "\n",
              "    [theme=dark] .colab-df-convert:hover {\n",
              "      background-color: #434B5C;\n",
              "      box-shadow: 0px 1px 3px 1px rgba(0, 0, 0, 0.15);\n",
              "      filter: drop-shadow(0px 1px 2px rgba(0, 0, 0, 0.3));\n",
              "      fill: #FFFFFF;\n",
              "    }\n",
              "  </style>\n",
              "\n",
              "      <script>\n",
              "        const buttonEl =\n",
              "          document.querySelector('#df-1d72d4ab-f585-4e9c-85c3-3785f1899433 button.colab-df-convert');\n",
              "        buttonEl.style.display =\n",
              "          google.colab.kernel.accessAllowed ? 'block' : 'none';\n",
              "\n",
              "        async function convertToInteractive(key) {\n",
              "          const element = document.querySelector('#df-1d72d4ab-f585-4e9c-85c3-3785f1899433');\n",
              "          const dataTable =\n",
              "            await google.colab.kernel.invokeFunction('convertToInteractive',\n",
              "                                                     [key], {});\n",
              "          if (!dataTable) return;\n",
              "\n",
              "          const docLinkHtml = 'Like what you see? Visit the ' +\n",
              "            '<a target=\"_blank\" href=https://colab.research.google.com/notebooks/data_table.ipynb>data table notebook</a>'\n",
              "            + ' to learn more about interactive tables.';\n",
              "          element.innerHTML = '';\n",
              "          dataTable['output_type'] = 'display_data';\n",
              "          await google.colab.output.renderOutput(dataTable, element);\n",
              "          const docLink = document.createElement('div');\n",
              "          docLink.innerHTML = docLinkHtml;\n",
              "          element.appendChild(docLink);\n",
              "        }\n",
              "      </script>\n",
              "    </div>\n",
              "  </div>\n",
              "  "
            ]
          },
          "metadata": {},
          "execution_count": 4
        }
      ]
    },
    {
      "cell_type": "code",
      "source": [
        "data.isnull().any()"
      ],
      "metadata": {
        "colab": {
          "base_uri": "https://localhost:8080/"
        },
        "id": "2xDJGeBhWhpD",
        "outputId": "d3a2b8ac-cc77-459d-cca7-65ab5fc2704b"
      },
      "execution_count": 5,
      "outputs": [
        {
          "output_type": "execute_result",
          "data": {
            "text/plain": [
              "Date             False\n",
              "Closing Value     True\n",
              "dtype: bool"
            ]
          },
          "metadata": {},
          "execution_count": 5
        }
      ]
    },
    {
      "cell_type": "code",
      "source": [
        "data.isnull().sum()"
      ],
      "metadata": {
        "colab": {
          "base_uri": "https://localhost:8080/"
        },
        "id": "iuiw7y3zWhq7",
        "outputId": "76ef9d3b-bbd6-4641-ccfc-02201fc15cd9"
      },
      "execution_count": 6,
      "outputs": [
        {
          "output_type": "execute_result",
          "data": {
            "text/plain": [
              "Date             0\n",
              "Closing Value    7\n",
              "dtype: int64"
            ]
          },
          "metadata": {},
          "execution_count": 6
        }
      ]
    },
    {
      "cell_type": "code",
      "source": [
        "data.dropna(axis=0,inplace=True)"
      ],
      "metadata": {
        "id": "ClUY412SWhsY"
      },
      "execution_count": 7,
      "outputs": []
    },
    {
      "cell_type": "code",
      "source": [
        "data.isnull().sum()"
      ],
      "metadata": {
        "colab": {
          "base_uri": "https://localhost:8080/"
        },
        "id": "XqRPWhG_Wht9",
        "outputId": "e73095b0-928d-48a2-8b35-7046e424d045"
      },
      "execution_count": 8,
      "outputs": [
        {
          "output_type": "execute_result",
          "data": {
            "text/plain": [
              "Date             0\n",
              "Closing Value    0\n",
              "dtype: int64"
            ]
          },
          "metadata": {},
          "execution_count": 8
        }
      ]
    },
    {
      "cell_type": "code",
      "source": [
        "data_oil=data.reset_index()['Closing Value']\n",
        "data_oil"
      ],
      "metadata": {
        "colab": {
          "base_uri": "https://localhost:8080/"
        },
        "id": "rfZ82cdHXLM_",
        "outputId": "9f1626d0-ef3a-46a5-e753-c28e2d102a11"
      },
      "execution_count": 9,
      "outputs": [
        {
          "output_type": "execute_result",
          "data": {
            "text/plain": [
              "0       25.56\n",
              "1       26.00\n",
              "2       26.53\n",
              "3       25.85\n",
              "4       25.87\n",
              "        ...  \n",
              "8211    73.89\n",
              "8212    74.19\n",
              "8213    73.05\n",
              "8214    73.78\n",
              "8215    73.93\n",
              "Name: Closing Value, Length: 8216, dtype: float64"
            ]
          },
          "metadata": {},
          "execution_count": 9
        }
      ]
    },
    {
      "cell_type": "code",
      "source": [
        "data_oil=data.reset_index()['Closing Value']\n",
        "data_oil"
      ],
      "metadata": {
        "colab": {
          "base_uri": "https://localhost:8080/"
        },
        "id": "8BaB3m8LXLSv",
        "outputId": "d4927ee0-dca0-4b60-aab1-d41f3b4878cc"
      },
      "execution_count": 10,
      "outputs": [
        {
          "output_type": "execute_result",
          "data": {
            "text/plain": [
              "0       25.56\n",
              "1       26.00\n",
              "2       26.53\n",
              "3       25.85\n",
              "4       25.87\n",
              "        ...  \n",
              "8211    73.89\n",
              "8212    74.19\n",
              "8213    73.05\n",
              "8214    73.78\n",
              "8215    73.93\n",
              "Name: Closing Value, Length: 8216, dtype: float64"
            ]
          },
          "metadata": {},
          "execution_count": 10
        }
      ]
    },
    {
      "cell_type": "code",
      "source": [
        "from sklearn.preprocessing import MinMaxScaler\n",
        "scaler=MinMaxScaler(feature_range=(0,1))\n",
        "data_oil=scaler.fit_transform(np.array(data_oil).reshape(-1,1))"
      ],
      "metadata": {
        "id": "iD1VssmqXLVR"
      },
      "execution_count": 11,
      "outputs": []
    },
    {
      "cell_type": "code",
      "source": [
        "data_oil"
      ],
      "metadata": {
        "colab": {
          "base_uri": "https://localhost:8080/"
        },
        "id": "pJwOeqrPXLX2",
        "outputId": "bddbae13-e8b0-4278-8f85-c3029af8f67e"
      },
      "execution_count": 12,
      "outputs": [
        {
          "output_type": "execute_result",
          "data": {
            "text/plain": [
              "array([[0.11335703],\n",
              "       [0.11661484],\n",
              "       [0.12053902],\n",
              "       ...,\n",
              "       [0.46497853],\n",
              "       [0.47038353],\n",
              "       [0.47149415]])"
            ]
          },
          "metadata": {},
          "execution_count": 12
        }
      ]
    },
    {
      "cell_type": "code",
      "source": [
        "plt.plot(data_oil)"
      ],
      "metadata": {
        "colab": {
          "base_uri": "https://localhost:8080/",
          "height": 282
        },
        "id": "8zsBOLxoXLbA",
        "outputId": "2b6bd0cf-9637-4433-897d-f9747ec0b121"
      },
      "execution_count": 13,
      "outputs": [
        {
          "output_type": "execute_result",
          "data": {
            "text/plain": [
              "[<matplotlib.lines.Line2D at 0x7efd1c40b150>]"
            ]
          },
          "metadata": {},
          "execution_count": 13
        },
        {
          "output_type": "display_data",
          "data": {
            "text/plain": [
              "<Figure size 432x288 with 1 Axes>"
            ],
            "image/png": "[encoded data removed]"
          },
          "metadata": {
            "needs_background": "light"
          }
        }
      ]
    },
    {
      "cell_type": "code",
      "source": [
        "training_size=int(len(data_oil)*0.65)\n",
        "test_size=len(data_oil)-training_size\n",
        "train_data,test_data=data_oil[0:training_size,:],data_oil[training_size:len(data_oil),:1]"
      ],
      "metadata": {
        "id": "rYur7PKqXqeM"
      },
      "execution_count": 14,
      "outputs": []
    },
    {
      "cell_type": "code",
      "source": [
        "training_size,test_size"
      ],
      "metadata": {
        "colab": {
          "base_uri": "https://localhost:8080/"
        },
        "id": "aY2yssDbXqgS",
        "outputId": "a34637b1-38e3-400c-f481-c0ad0ee9d003"
      },
      "execution_count": 15,
      "outputs": [
        {
          "output_type": "execute_result",
          "data": {
            "text/plain": [
              "(5340, 2876)"
            ]
          },
          "metadata": {},
          "execution_count": 15
        }
      ]
    },
    {
      "cell_type": "code",
      "source": [
        "train_data.shape"
      ],
      "metadata": {
        "colab": {
          "base_uri": "https://localhost:8080/"
        },
        "id": "kZIXhf1XXqii",
        "outputId": "d1f84eaf-b7df-4d7e-b0a7-10c310ee956f"
      },
      "execution_count": 16,
      "outputs": [
        {
          "output_type": "execute_result",
          "data": {
            "text/plain": [
              "(5340, 1)"
            ]
          },
          "metadata": {},
          "execution_count": 16
        }
      ]
    },
    {
      "cell_type": "code",
      "source": [
        "def create_dataset(dataset,time_step=1):\n",
        "  dataX,dataY=[],[]\n",
        "  for i in range(len(dataset)-time_step-1):\n",
        "    a=dataset[i:(i+time_step),0]\n",
        "    dataX.append(a)\n",
        "    dataY.append(dataset[i+time_step,0])\n",
        "  return np.array(dataX),np.array(dataY)"
      ],
      "metadata": {
        "id": "6Qor2lcAXqlr"
      },
      "execution_count": 17,
      "outputs": []
    },
    {
      "cell_type": "code",
      "source": [
        "time_step=10\n",
        "x_train,y_train=create_dataset(train_data,time_step)\n",
        "x_test,y_test=create_dataset(test_data,time_step)"
      ],
      "metadata": {
        "id": "qdyfTjljX5ys"
      },
      "execution_count": 18,
      "outputs": []
    },
    {
      "cell_type": "code",
      "source": [
        "print(x_train.shape),print(y_train.shape)"
      ],
      "metadata": {
        "colab": {
          "base_uri": "https://localhost:8080/"
        },
        "id": "P8e0ip8oX51q",
        "outputId": "2e34a50d-76a8-4db1-c195-d657ba6b64f3"
      },
      "execution_count": 19,
      "outputs": [
        {
          "output_type": "stream",
          "name": "stdout",
          "text": [
            "(5329, 10)\n",
            "(5329,)\n"
          ]
        },
        {
          "output_type": "execute_result",
          "data": {
            "text/plain": [
              "(None, None)"
            ]
          },
          "metadata": {},
          "execution_count": 19
        }
      ]
    },
    {
      "cell_type": "code",
      "source": [
        "print(x_test.shape),print(y_test.shape)"
      ],
      "metadata": {
        "colab": {
          "base_uri": "https://localhost:8080/"
        },
        "id": "pYId-n0iX54D",
        "outputId": "5b5a4805-79e5-44ea-d0d4-4b9d96a1b922"
      },
      "execution_count": 20,
      "outputs": [
        {
          "output_type": "stream",
          "name": "stdout",
          "text": [
            "(2865, 10)\n",
            "(2865,)\n"
          ]
        },
        {
          "output_type": "execute_result",
          "data": {
            "text/plain": [
              "(None, None)"
            ]
          },
          "metadata": {},
          "execution_count": 20
        }
      ]
    },
    {
      "cell_type": "code",
      "source": [
        "x_train"
      ],
      "metadata": {
        "colab": {
          "base_uri": "https://localhost:8080/"
        },
        "id": "9KUpnpRAX56c",
        "outputId": "d684b216-5c56-4ef8-a440-aeaec7fcc893"
      },
      "execution_count": 21,
      "outputs": [
        {
          "output_type": "execute_result",
          "data": {
            "text/plain": [
              "array([[0.11335703, 0.11661484, 0.12053902, ..., 0.10980305, 0.1089886 ,\n",
              "        0.11054346],\n",
              "       [0.11661484, 0.12053902, 0.11550422, ..., 0.1089886 , 0.11054346,\n",
              "        0.10165852],\n",
              "       [0.12053902, 0.11550422, 0.1156523 , ..., 0.11054346, 0.10165852,\n",
              "        0.09906708],\n",
              "       ...,\n",
              "       [0.36731823, 0.35176958, 0.36080261, ..., 0.36391234, 0.37042796,\n",
              "        0.37042796],\n",
              "       [0.35176958, 0.36080261, 0.35354657, ..., 0.37042796, 0.37042796,\n",
              "        0.37879461],\n",
              "       [0.36080261, 0.35354657, 0.35295424, ..., 0.37042796, 0.37879461,\n",
              "        0.37916482]])"
            ]
          },
          "metadata": {},
          "execution_count": 21
        }
      ]
    },
    {
      "cell_type": "code",
      "source": [
        "x_train=x_train.reshape(x_train.shape[0],x_train.shape[1],1)\n",
        "x_test=x_test.reshape(x_test.shape[0],x_test.shape[1],1)"
      ],
      "metadata": {
        "id": "_E-wQ_lEX59q"
      },
      "execution_count": 22,
      "outputs": []
    },
    {
      "cell_type": "code",
      "source": [
        "from tensorflow.keras.models import Sequential\n",
        "from tensorflow.keras.layers import Dense\n",
        "from tensorflow.keras.layers import LSTM"
      ],
      "metadata": {
        "id": "yCCx6BEbYM_5"
      },
      "execution_count": 23,
      "outputs": []
    },
    {
      "cell_type": "code",
      "source": [
        "model=Sequential()"
      ],
      "metadata": {
        "id": "YTAK4kdDYNCo"
      },
      "execution_count": 24,
      "outputs": []
    },
    {
      "cell_type": "code",
      "source": [
        "model.add(LSTM(50,return_sequences=True,input_shape=(10,1)))\n",
        "model.add(LSTM(50,return_sequences=True))\n",
        "model.add(LSTM(50))"
      ],
      "metadata": {
        "id": "EEKs6FfBYNJK"
      },
      "execution_count": 25,
      "outputs": []
    },
    {
      "cell_type": "code",
      "source": [
        "model.add(Dense(1))"
      ],
      "metadata": {
        "id": "8FtenEOVYNMn"
      },
      "execution_count": 26,
      "outputs": []
    },
    {
      "cell_type": "code",
      "source": [
        "model.summary()"
      ],
      "metadata": {
        "colab": {
          "base_uri": "https://localhost:8080/"
        },
        "id": "kLfDKoKCYNO3",
        "outputId": "d1c55b06-8f8c-4fc6-9ba2-a0c10120378d"
      },
      "execution_count": 27,
      "outputs": [
        {
          "output_type": "stream",
          "name": "stdout",
          "text": [
            "Model: \"sequential\"\n",
            "_________________________________________________________________\n",
            " Layer (type)                Output Shape              Param #   \n",
            "=================================================================\n",
            " lstm (LSTM)                 (None, 10, 50)            10400     \n",
            "                                                                 \n",
            " lstm_1 (LSTM)               (None, 10, 50)            20200     \n",
            "                                                                 \n",
            " lstm_2 (LSTM)               (None, 50)                20200     \n",
            "                                                                 \n",
            " dense (Dense)               (None, 1)                 51        \n",
            "                                                                 \n",
            "=================================================================\n",
            "Total params: 50,851\n",
            "Trainable params: 50,851\n",
            "Non-trainable params: 0\n",
            "_________________________________________________________________\n"
          ]
        }
      ]
    },
    {
      "cell_type": "code",
      "source": [
        "model.compile(loss='mean_squared_error',optimizer='adam')"
      ],
      "metadata": {
        "id": "0FH4BWj9YcE1"
      },
      "execution_count": 28,
      "outputs": []
    },
    {
      "cell_type": "code",
      "source": [
        "model.fit(x_train,y_train,validation_data=(x_test,y_test),epochs=3,batch_size=64,verbose=1)"
      ],
      "metadata": {
        "colab": {
          "base_uri": "https://localhost:8080/"
        },
        "id": "R8BACM01YcJX",
        "outputId": "2ba97c2c-20c1-48d1-b611-f36c6eed6fa4"
      },
      "execution_count": 29,
      "outputs": [
        {
          "output_type": "stream",
          "name": "stdout",
          "text": [
            "Epoch 1/3\n",
            "84/84 [==============================] - 15s 42ms/step - loss: 0.0018 - val_loss: 0.0014\n",
            "Epoch 2/3\n",
            "84/84 [==============================] - 2s 27ms/step - loss: 1.3145e-04 - val_loss: 8.4684e-04\n",
            "Epoch 3/3\n",
            "84/84 [==============================] - 2s 28ms/step - loss: 1.2724e-04 - val_loss: 0.0011\n"
          ]
        },
        {
          "output_type": "execute_result",
          "data": {
            "text/plain": [
              "<keras.callbacks.History at 0x7efcbdbfe910>"
            ]
          },
          "metadata": {},
          "execution_count": 29
        }
      ]
    },
    {
      "cell_type": "code",
      "source": [
        "##Transformback to original form\n",
        "train_predict=scaler.inverse_transform(train_data) \n",
        "test_predict=scaler.inverse_transform(test_data)\n",
        "### Calculate RMSE performance metrics\n",
        "import math \n",
        "from sklearn.metrics import mean_squared_error\n",
        "math.sqrt(mean_squared_error(train_data,train_predict))"
      ],
      "metadata": {
        "colab": {
          "base_uri": "https://localhost:8080/"
        },
        "id": "bb1-PxIdYcMX",
        "outputId": "31b483f5-72a0-45dc-cee3-7c8014105a7c"
      },
      "execution_count": 30,
      "outputs": [
        {
          "output_type": "execute_result",
          "data": {
            "text/plain": [
              "29.347830443269938"
            ]
          },
          "metadata": {},
          "execution_count": 30
        }
      ]
    },
    {
      "cell_type": "code",
      "source": [
        "from tensorflow.keras.models import load_model"
      ],
      "metadata": {
        "id": "DbWqT0bXYcPC"
      },
      "execution_count": 31,
      "outputs": []
    },
    {
      "cell_type": "code",
      "source": [
        "model.save(\"crude_oil.hs\")"
      ],
      "metadata": {
        "colab": {
          "base_uri": "https://localhost:8080/"
        },
        "id": "viFTMsl1YcQ6",
        "outputId": "6304cf56-ae7f-4860-e12f-9ab1f430c90b"
      },
      "execution_count": 32,
      "outputs": [
        {
          "output_type": "stream",
          "name": "stderr",
          "text": [
            "WARNING:absl:Found untraced functions such as lstm_cell_layer_call_fn, lstm_cell_layer_call_and_return_conditional_losses, lstm_cell_1_layer_call_fn, lstm_cell_1_layer_call_and_return_conditional_losses, lstm_cell_2_layer_call_fn while saving (showing 5 of 6). These functions will not be directly callable after loading.\n"
          ]
        }
      ]
    },
    {
      "cell_type": "code",
      "source": [
        "### Plotting\n",
        "look_back=10\n",
        "trainpredictPlot = np.empty_like(data_oil)\n",
        "trainpredictPlot[:, :]= np.nan\n",
        "trainpredictPlot[look_back:len(train_predict)+look_back, :] = train_predict\n",
        "# shift test predictions for plotting\n",
        "testPredictplot = np.empty_like(data_oil)\n",
        "testPredictplot[:,: ] = np.nan\n",
        "testPredictplot[look_back:len(test_predict)+look_back, :] = test_predict\n",
        "# plot baseline and predictions\n",
        "plt.plot(scaler.inverse_transform(data_oil))\n",
        "plt.show()"
      ],
      "metadata": {
        "colab": {
          "base_uri": "https://localhost:8080/",
          "height": 265
        },
        "id": "iSiO2Y3mYcS6",
        "outputId": "0f8b911f-c62a-4019-ab14-e7491420d432"
      },
      "execution_count": 33,
      "outputs": [
        {
          "output_type": "display_data",
          "data": {
            "text/plain": [
              "<Figure size 432x288 with 1 Axes>"
            ],
            "image/png": "[encoded data removed]"
          },
          "metadata": {
            "needs_background": "light"
          }
        }
      ]
    },
    {
      "cell_type": "code",
      "source": [
        "len(test_data)"
      ],
      "metadata": {
        "colab": {
          "base_uri": "https://localhost:8080/"
        },
        "id": "Fx3nRUX6YcVS",
        "outputId": "01b9afe6-05f7-4490-fed0-131f40765e3e"
      },
      "execution_count": 34,
      "outputs": [
        {
          "output_type": "execute_result",
          "data": {
            "text/plain": [
              "2876"
            ]
          },
          "metadata": {},
          "execution_count": 34
        }
      ]
    },
    {
      "cell_type": "code",
      "source": [
        "x_input=test_data[2866:].reshape(1,-1)\n",
        "x_input.shape"
      ],
      "metadata": {
        "colab": {
          "base_uri": "https://localhost:8080/"
        },
        "id": "E26opwihYNRx",
        "outputId": "cc317aec-a371-4457-9c29-96e37d1bfe91"
      },
      "execution_count": 35,
      "outputs": [
        {
          "output_type": "execute_result",
          "data": {
            "text/plain": [
              "(1, 10)"
            ]
          },
          "metadata": {},
          "execution_count": 35
        }
      ]
    },
    {
      "cell_type": "code",
      "source": [
        "temp_input=list(x_input) \n",
        "temp_input=temp_input[0].tolist()"
      ],
      "metadata": {
        "id": "BeGwjSxbYNVC"
      },
      "execution_count": 36,
      "outputs": []
    },
    {
      "cell_type": "code",
      "source": [
        "temp_input"
      ],
      "metadata": {
        "colab": {
          "base_uri": "https://localhost:8080/"
        },
        "id": "0x3_4iCJY7_8",
        "outputId": "c7f57631-395b-4d3b-8dca-a1caf90a1dc4"
      },
      "execution_count": 37,
      "outputs": [
        {
          "output_type": "execute_result",
          "data": {
            "text/plain": [
              "[0.44172960165852215,\n",
              " 0.48111950244335855,\n",
              " 0.49726047682511476,\n",
              " 0.4679401747371539,\n",
              " 0.4729749740855915,\n",
              " 0.47119798608026064,\n",
              " 0.47341922108692425,\n",
              " 0.4649785280616022,\n",
              " 0.4703835332444839,\n",
              " 0.47149415074781587]"
            ]
          },
          "metadata": {},
          "execution_count": 37
        }
      ]
    },
    {
      "cell_type": "code",
      "source": [
        "lst_output=[]\n",
        "n_steps=10\n",
        "i=0\n",
        "while(i<10):\n",
        "    if(len(temp_input)>10):\n",
        "#print(temp_input)\n",
        "       x_input=np.array(temp_input[1:]) \n",
        "       print(\"{} day input {}\".format(i,x_input))\n",
        "       x_input=x_input.reshape(1,-1)\n",
        "       x_input = x_input.reshape((1, n_steps, 1)) #print(x_input)\n",
        "       yhat = model.predict(x_input, verbose=0)\n",
        "       print(\"{} day output {}\".format(i,yhat))\n",
        "       temp_input.extend(yhat[0].tolist())\n",
        "       temp_input=temp_input[1:] #print(temp_input)\n",
        "       lst_output.extend(yhat.tolist())\n",
        "       i=i+1\n",
        "    else:\n",
        "       x_input = x_input.reshape((1, n_steps,1))\n",
        "       yhat = model.predict(x_input, verbose=0)\n",
        "       print(yhat[0])\n",
        "       temp_input.extend(yhat[0].tolist()) \n",
        "       print(len(temp_input))\n",
        "       lst_output.extend(yhat.tolist())\n",
        "       i=i+1"
      ],
      "metadata": {
        "colab": {
          "base_uri": "https://localhost:8080/"
        },
        "id": "EjhZFqMnY8CM",
        "outputId": "ff5a266e-e7c2-45d5-eb25-d6b2dd0bdf70"
      },
      "execution_count": 38,
      "outputs": [
        {
          "output_type": "stream",
          "name": "stdout",
          "text": [
            "[0.4618324]\n",
            "11\n",
            "1 day input [0.4811195  0.49726048 0.46794017 0.47297497 0.47119799 0.47341922\n",
            " 0.46497853 0.47038353 0.47149415 0.4618324 ]\n",
            "1 day output [[0.46554327]]\n",
            "2 day input [0.49726048 0.46794017 0.47297497 0.47119799 0.47341922 0.46497853\n",
            " 0.47038353 0.47149415 0.4618324  0.46554327]\n",
            "2 day output [[0.4637663]]\n",
            "3 day input [0.46794017 0.47297497 0.47119799 0.47341922 0.46497853 0.47038353\n",
            " 0.47149415 0.4618324  0.46554327 0.46376631]\n",
            "3 day output [[0.4597462]]\n",
            "4 day input [0.47297497 0.47119799 0.47341922 0.46497853 0.47038353 0.47149415\n",
            " 0.4618324  0.46554327 0.46376631 0.45974621]\n",
            "4 day output [[0.4594373]]\n",
            "5 day input [0.47119799 0.47341922 0.46497853 0.47038353 0.47149415 0.4618324\n",
            " 0.46554327 0.46376631 0.45974621 0.45943731]\n",
            "5 day output [[0.45824516]]\n",
            "6 day input [0.47341922 0.46497853 0.47038353 0.47149415 0.4618324  0.46554327\n",
            " 0.46376631 0.45974621 0.45943731 0.45824516]\n",
            "6 day output [[0.45707935]]\n",
            "7 day input [0.46497853 0.47038353 0.47149415 0.4618324  0.46554327 0.46376631\n",
            " 0.45974621 0.45943731 0.45824516 0.45707935]\n",
            "7 day output [[0.4554267]]\n",
            "8 day input [0.47038353 0.47149415 0.4618324  0.46554327 0.46376631 0.45974621\n",
            " 0.45943731 0.45824516 0.45707935 0.45542669]\n",
            "8 day output [[0.45468464]]\n",
            "9 day input [0.47149415 0.4618324  0.46554327 0.46376631 0.45974621 0.45943731\n",
            " 0.45824516 0.45707935 0.45542669 0.45468464]\n",
            "9 day output [[0.45303136]]\n"
          ]
        }
      ]
    },
    {
      "cell_type": "code",
      "source": [
        "day_new=np.arange(1,11) \n",
        "day_pred=np.arange(11,21)\n",
        "len(data_oil)\n",
        "plt.plot(day_new, scaler.inverse_transform(data_oil[8206:])) \n",
        "plt.plot(day_pred, scaler.inverse_transform(lst_output))"
      ],
      "metadata": {
        "colab": {
          "base_uri": "https://localhost:8080/",
          "height": 282
        },
        "id": "c0Qy_vreY8Fs",
        "outputId": "d53d797e-0489-4b87-831e-763ad1bda16c"
      },
      "execution_count": 39,
      "outputs": [
        {
          "output_type": "execute_result",
          "data": {
            "text/plain": [
              "[<matplotlib.lines.Line2D at 0x7efcb6c498d0>]"
            ]
          },
          "metadata": {},
          "execution_count": 39
        },
        {
          "output_type": "display_data",
          "data": {
            "text/plain": [
              "<Figure size 432x288 with 1 Axes>"
            ],
            "image/png": "[encoded data removed]"
          },
          "metadata": {
            "needs_background": "light"
          }
        }
      ]
    },
    {
      "cell_type": "code",
      "source": [
        "df3=data_oil.tolist() \n",
        "df3.extend(lst_output) \n",
        "plt.plot(df3[8100:])"
      ],
      "metadata": {
        "colab": {
          "base_uri": "https://localhost:8080/",
          "height": 282
        },
        "id": "u5NZazODY8I8",
        "outputId": "e37dbc0f-ec6c-496d-f217-d700b7098b94"
      },
      "execution_count": 40,
      "outputs": [
        {
          "output_type": "execute_result",
          "data": {
            "text/plain": [
              "[<matplotlib.lines.Line2D at 0x7efcb6c660d0>]"
            ]
          },
          "metadata": {},
          "execution_count": 40
        },
        {
          "output_type": "display_data",
          "data": {
            "text/plain": [
              "<Figure size 432x288 with 1 Axes>"
            ],
            "image/png": "[encoded data removed]"
          },
          "metadata": {
            "needs_background": "light"
          }
        }
      ]
    },
    {
      "cell_type": "code",
      "source": [
        "df3=scaler.inverse_transform(df3).tolist()"
      ],
      "metadata": {
        "id": "rxW6KYF-Y8LZ"
      },
      "execution_count": 41,
      "outputs": []
    },
    {
      "cell_type": "code",
      "source": [
        "plt.plot(scaler.inverse_transform(data_oil))"
      ],
      "metadata": {
        "colab": {
          "base_uri": "https://localhost:8080/",
          "height": 282
        },
        "id": "tlZsuC6eY8Nx",
        "outputId": "c2de5890-50c6-4c8b-ebeb-52dc8c2d7ce0"
      },
      "execution_count": 42,
      "outputs": [
        {
          "output_type": "execute_result",
          "data": {
            "text/plain": [
              "[<matplotlib.lines.Line2D at 0x7efcba578310>]"
            ]
          },
          "metadata": {},
          "execution_count": 42
        },
        {
          "output_type": "display_data",
          "data": {
            "text/plain": [
              "<Figure size 432x288 with 1 Axes>"
            ],
            "image/png": "[encoded data removed]"
          },
          "metadata": {
            "needs_background": "light"
          }
        }
      ]
    },
    {
      "cell_type": "code",
      "source": [],
      "metadata": {
        "id": "Vw2vz5wRY8aQ"
      },
      "execution_count": null,
      "outputs": []
    },
    {
      "cell_type": "code",
      "source": [],
      "metadata": {
        "id": "sKn5hxe7X6Ak"
      },
      "execution_count": null,
      "outputs": []
    },
    {
      "cell_type": "code",
      "source": [],
      "metadata": {
        "id": "g2jXiL76XLeA"
      },
      "execution_count": null,
      "outputs": []
    }
  ]
}